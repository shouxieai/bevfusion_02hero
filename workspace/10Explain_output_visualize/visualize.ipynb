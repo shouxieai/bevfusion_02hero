{
 "cells": [
  {
   "cell_type": "code",
   "execution_count": 1,
   "metadata": {},
   "outputs": [],
   "source": [
    "import torch\n",
    "import matplotlib.pyplot as plt\n",
    "import pickle\n",
    "from mmdet3d.core import LiDARInstance3DBoxes\n",
    "from mmdet3d.core.utils import visualize_camera, visualize_lidar, visualize_map\n",
    "import mmcv\n",
    "import os"
   ]
  },
  {
   "cell_type": "code",
   "execution_count": 2,
   "metadata": {},
   "outputs": [
    {
     "name": "stdout",
     "output_type": "stream",
     "text": [
      "dict_keys(['boxes_3d', 'scores_3d', 'labels_3d'])\n"
     ]
    }
   ],
   "source": [
    "\"\"\"\n",
    "此outputs.pkl，是加载一个sample的输出数据\n",
    "\"\"\"\n",
    "with open(\"outputs0.pkl\", \"rb\") as f:\n",
    "    content = f.read()\n",
    "    outputs = pickle.loads(content)\n",
    "print(outputs.keys())"
   ]
  },
  {
   "cell_type": "code",
   "execution_count": 3,
   "metadata": {},
   "outputs": [
    {
     "name": "stdout",
     "output_type": "stream",
     "text": [
      "dict_keys(['filename', 'timestamp', 'ori_shape', 'img_shape', 'lidar2image', 'pad_shape', 'scale_factor', 'box_mode_3d', 'box_type_3d', 'img_norm_cfg', 'token', 'lidar_path'])\n"
     ]
    }
   ],
   "source": [
    "\"\"\"\n",
    "此output_metas.pkl，是加载原数据\n",
    "\"\"\"\n",
    "with open(\"output_metas.pkl\", \"rb\") as f:\n",
    "    content = f.read()\n",
    "    metas = pickle.loads(content)\n",
    "print(metas.keys())"
   ]
  },
  {
   "cell_type": "code",
   "execution_count": 4,
   "metadata": {},
   "outputs": [],
   "source": [
    "bboxes = outputs[\"boxes_3d\"]\n",
    "labels = outputs[\"labels_3d\"]"
   ]
  },
  {
   "cell_type": "code",
   "execution_count": 12,
   "metadata": {},
   "outputs": [],
   "source": [
    "import numpy as np\n",
    "import copy\n",
    "name = \"{}-{}\".format(metas[\"timestamp\"], metas[\"token\"])\n",
    "file_name = [r'../../data/images/n008-2018-08-01-15-16-36-0400__CAM_FRONT__1533151603512404.jpg',\n",
    "r'../../data/images/n008-2018-08-01-15-16-36-0400__CAM_FRONT_RIGHT__1533151603520482.jpg',\n",
    " r'../../data/images/n008-2018-08-01-15-16-36-0400__CAM_FRONT_LEFT__1533151603504799.jpg', \n",
    "r'../../data/images/n008-2018-08-01-15-16-36-0400__CAM_BACK__1533151603537558.jpg',\n",
    "  r'../../data/images/n008-2018-08-01-15-16-36-0400__CAM_BACK_LEFT__1533151603547405.jpg',\n",
    "   r\"../../data/images/n008-2018-08-01-15-16-36-0400__CAM_BACK_RIGHT__1533151603528113.jpg\"]\n",
    "# for k, image_path in enumerate(metas[\"filename\"]):\n",
    "for k, image_path in enumerate(file_name):\n",
    "    image = mmcv.imread(image_path)\n",
    "    visualize_camera(\n",
    "        os.path.join(\"yxyoutput\", f\"camera-{k}\", f\"{name}.png\"), # 输出路径\n",
    "        image, # 真实图片HWC   900， 1600， 3\n",
    "        bboxes=bboxes, # LiDARInstance3DBoxes\n",
    "        labels=labels,  # 200个lable\n",
    "        transform=metas[\"lidar2image\"][k], # 4,4\n",
    "        classes=['car', 'truck', 'construction_vehicle', 'bus', 'trailer', 'barrier', 'motorcycle', 'bicycle', 'pedestrian', 'traffic_cone']\n",
    "    )"
   ]
  }
 ],
 "metadata": {
  "kernelspec": {
   "display_name": "Python 3",
   "language": "python",
   "name": "python3"
  },
  "language_info": {
   "codemirror_mode": {
    "name": "ipython",
    "version": 3
   },
   "file_extension": ".py",
   "mimetype": "text/x-python",
   "name": "python",
   "nbconvert_exporter": "python",
   "pygments_lexer": "ipython3",
   "version": "3.8.10"
  },
  "orig_nbformat": 4
 },
 "nbformat": 4,
 "nbformat_minor": 2
}
