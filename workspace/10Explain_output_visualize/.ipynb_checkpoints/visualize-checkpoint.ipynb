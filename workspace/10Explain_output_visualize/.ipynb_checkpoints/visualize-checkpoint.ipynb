{
 "cells": [
  {
   "cell_type": "code",
   "execution_count": 1,
   "metadata": {},
   "outputs": [],
   "source": [
    "import torch\n",
    "import matplotlib.pyplot as plt\n",
    "import pickle\n",
    "from mmdet3d.core import LiDARInstance3DBoxes\n",
    "from mmdet3d.core.utils import visualize_camera, visualize_lidar, visualize_map\n",
    "import mmcv\n",
    "import os"
   ]
  },
  {
   "cell_type": "code",
   "execution_count": 2,
   "metadata": {},
   "outputs": [
    {
     "ename": "FileNotFoundError",
     "evalue": "[Errno 2] No such file or directory: 'outputs0.pkl'",
     "output_type": "error",
     "traceback": [
      "\u001b[0;31m---------------------------------------------------------------------------\u001b[0m",
      "\u001b[0;31mFileNotFoundError\u001b[0m                         Traceback (most recent call last)",
      "Cell \u001b[0;32mIn[2], line 4\u001b[0m\n\u001b[1;32m      1\u001b[0m \u001b[39m\"\"\"\u001b[39;00m\n\u001b[1;32m      2\u001b[0m \u001b[39m此outputs.pkl，是加载一个sample的输出数据\u001b[39;00m\n\u001b[1;32m      3\u001b[0m \u001b[39m\"\"\"\u001b[39;00m\n\u001b[0;32m----> 4\u001b[0m \u001b[39mwith\u001b[39;00m \u001b[39mopen\u001b[39;49m(\u001b[39m\"\u001b[39;49m\u001b[39moutputs0.pkl\u001b[39;49m\u001b[39m\"\u001b[39;49m, \u001b[39m\"\u001b[39;49m\u001b[39mrb\u001b[39;49m\u001b[39m\"\u001b[39;49m) \u001b[39mas\u001b[39;00m f:\n\u001b[1;32m      5\u001b[0m     content \u001b[39m=\u001b[39m f\u001b[39m.\u001b[39mread()\n\u001b[1;32m      6\u001b[0m     outputs \u001b[39m=\u001b[39m pickle\u001b[39m.\u001b[39mloads(content)\n",
      "File \u001b[0;32m/usr/local/lib/python3.8/dist-packages/IPython/core/interactiveshell.py:284\u001b[0m, in \u001b[0;36m_modified_open\u001b[0;34m(file, *args, **kwargs)\u001b[0m\n\u001b[1;32m    277\u001b[0m \u001b[39mif\u001b[39;00m file \u001b[39min\u001b[39;00m {\u001b[39m0\u001b[39m, \u001b[39m1\u001b[39m, \u001b[39m2\u001b[39m}:\n\u001b[1;32m    278\u001b[0m     \u001b[39mraise\u001b[39;00m \u001b[39mValueError\u001b[39;00m(\n\u001b[1;32m    279\u001b[0m         \u001b[39mf\u001b[39m\u001b[39m\"\u001b[39m\u001b[39mIPython won\u001b[39m\u001b[39m'\u001b[39m\u001b[39mt let you open fd=\u001b[39m\u001b[39m{\u001b[39;00mfile\u001b[39m}\u001b[39;00m\u001b[39m by default \u001b[39m\u001b[39m\"\u001b[39m\n\u001b[1;32m    280\u001b[0m         \u001b[39m\"\u001b[39m\u001b[39mas it is likely to crash IPython. If you know what you are doing, \u001b[39m\u001b[39m\"\u001b[39m\n\u001b[1;32m    281\u001b[0m         \u001b[39m\"\u001b[39m\u001b[39myou can use builtins\u001b[39m\u001b[39m'\u001b[39m\u001b[39m open.\u001b[39m\u001b[39m\"\u001b[39m\n\u001b[1;32m    282\u001b[0m     )\n\u001b[0;32m--> 284\u001b[0m \u001b[39mreturn\u001b[39;00m io_open(file, \u001b[39m*\u001b[39;49margs, \u001b[39m*\u001b[39;49m\u001b[39m*\u001b[39;49mkwargs)\n",
      "\u001b[0;31mFileNotFoundError\u001b[0m: [Errno 2] No such file or directory: 'outputs0.pkl'"
     ]
    }
   ],
   "source": [
    "\"\"\"\n",
    "此outputs.pkl，是加载一个sample的输出数据\n",
    "\"\"\"\n",
    "with open(\"outputs0.pkl\", \"rb\") as f:\n",
    "    content = f.read()\n",
    "    outputs = pickle.loads(content)\n",
    "print(outputs.keys())"
   ]
  },
  {
   "cell_type": "code",
   "execution_count": null,
   "metadata": {},
   "outputs": [
    {
     "name": "stdout",
     "output_type": "stream",
     "text": [
      "dict_keys(['filename', 'timestamp', 'ori_shape', 'img_shape', 'lidar2image', 'pad_shape', 'scale_factor', 'box_mode_3d', 'box_type_3d', 'img_norm_cfg', 'token', 'lidar_path'])\n"
     ]
    }
   ],
   "source": [
    "\"\"\"\n",
    "此output_metas.pkl，是加载原数据\n",
    "\"\"\"\n",
    "with open(\"output_metas.pkl\", \"rb\") as f:\n",
    "    content = f.read()\n",
    "    metas = pickle.loads(content)\n",
    "print(metas.keys())"
   ]
  },
  {
   "cell_type": "code",
   "execution_count": null,
   "metadata": {},
   "outputs": [],
   "source": [
    "bboxes = outputs[\"boxes_3d\"]\n",
    "labels = outputs[\"labels_3d\"]"
   ]
  },
  {
   "cell_type": "code",
   "execution_count": null,
   "metadata": {},
   "outputs": [
    {
     "ename": "NameError",
     "evalue": "name 'outputs' is not defined",
     "output_type": "error",
     "traceback": [
      "\u001b[0;31m---------------------------------------------------------------------------\u001b[0m",
      "\u001b[0;31mNameError\u001b[0m                                 Traceback (most recent call last)",
      "Cell \u001b[0;32mIn[1], line 1\u001b[0m\n\u001b[0;32m----> 1\u001b[0m scores \u001b[39m=\u001b[39m outputs[\u001b[39m\"\u001b[39m\u001b[39mscores_3d\u001b[39m\u001b[39m\"\u001b[39m]\n",
      "\u001b[0;31mNameError\u001b[0m: name 'outputs' is not defined"
     ]
    }
   ],
   "source": [
    "scores = outputs[\"scores_3d\"]"
   ]
  },
  {
   "cell_type": "code",
   "execution_count": 12,
   "metadata": {},
   "outputs": [],
   "source": [
    "import numpy as np\n",
    "import copy\n",
    "name = \"{}-{}\".format(metas[\"timestamp\"], metas[\"token\"])\n",
    "file_name = [r'../../data/images/n008-2018-08-01-15-16-36-0400__CAM_FRONT__1533151603512404.jpg',\n",
    "r'../../data/images/n008-2018-08-01-15-16-36-0400__CAM_FRONT_RIGHT__1533151603520482.jpg',\n",
    " r'../../data/images/n008-2018-08-01-15-16-36-0400__CAM_FRONT_LEFT__1533151603504799.jpg', \n",
    "r'../../data/images/n008-2018-08-01-15-16-36-0400__CAM_BACK__1533151603537558.jpg',\n",
    "  r'../../data/images/n008-2018-08-01-15-16-36-0400__CAM_BACK_LEFT__1533151603547405.jpg',\n",
    "   r\"../../data/images/n008-2018-08-01-15-16-36-0400__CAM_BACK_RIGHT__1533151603528113.jpg\"]\n",
    "# for k, image_path in enumerate(metas[\"filename\"]):\n",
    "for k, image_path in enumerate(file_name):\n",
    "    image = mmcv.imread(image_path)\n",
    "    visualize_camera(\n",
    "        os.path.join(\"yxyoutput\", f\"camera-{k}\", f\"{name}.png\"), # 输出路径\n",
    "        image, # 真实图片HWC   900， 1600， 3\n",
    "        bboxes=bboxes, # LiDARInstance3DBoxes\n",
    "        labels=labels,  # 200个lable\n",
    "        transform=metas[\"lidar2image\"][k], # 4,4\n",
    "        classes=['car', 'truck', 'construction_vehicle', 'bus', 'trailer', 'barrier', 'motorcycle', 'bicycle', 'pedestrian', 'traffic_cone']\n",
    "    )"
   ]
  }
 ],
 "metadata": {
  "kernelspec": {
   "display_name": "Python 3 (ipykernel)",
   "language": "python",
   "name": "python3"
  },
  "language_info": {
   "codemirror_mode": {
    "name": "ipython",
    "version": 3
   },
   "file_extension": ".py",
   "mimetype": "text/x-python",
   "name": "python",
   "nbconvert_exporter": "python",
   "pygments_lexer": "ipython3",
   "version": "3.8.10"
  }
 },
 "nbformat": 4,
 "nbformat_minor": 4
}
