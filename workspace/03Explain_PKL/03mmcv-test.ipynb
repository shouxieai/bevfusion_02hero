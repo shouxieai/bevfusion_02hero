{
 "cells": [
  {
   "cell_type": "code",
   "execution_count": 1,
   "metadata": {},
   "outputs": [],
   "source": [
    "import mmcv\n",
    "import json"
   ]
  },
  {
   "cell_type": "code",
   "execution_count": 3,
   "metadata": {},
   "outputs": [
    {
     "name": "stdout",
     "output_type": "stream",
     "text": [
      "infos\n",
      "metadata\n"
     ]
    }
   ],
   "source": [
    "# 此代码展示pkl读进来后的大概样子，对pkl文件有个了解\n",
    "data = mmcv.load(\"../../data/nuscenes_infos_val.pkl\")\n",
    "for i in data:\n",
    "    print(i)\n"
   ]
  },
  {
   "cell_type": "code",
   "execution_count": null,
   "metadata": {},
   "outputs": [],
   "source": [
    "print(len(data[\"infos\"])) # mini数据集404的sample。经过create_data的划分。val.pkl中划分了81个sample给val\n",
    "for item in data[\"infos\"][0]: # 这里提取了第一个sample，看看有哪些key\n",
    "    print(item)"
   ]
  },
  {
   "cell_type": "code",
   "execution_count": null,
   "metadata": {},
   "outputs": [],
   "source": [
    "data[\"metadata\"]"
   ]
  },
  {
   "cell_type": "code",
   "execution_count": null,
   "metadata": {},
   "outputs": [],
   "source": [
    "for i in data: # 具体打印一个v1.0-mini数据集，81个sample中，第一个sample的数据\n",
    "    print(i)\n",
    "    for j in data[i]:\n",
    "        print(j)\n",
    "        data1 = j\n",
    "        break\n",
    "    "
   ]
  },
  {
   "cell_type": "code",
   "execution_count": 4,
   "metadata": {},
   "outputs": [],
   "source": [
    "import numpy as np\n",
    "\n",
    "def convert_ndarray(data):\n",
    "    if isinstance(data, dict):\n",
    "        for key, value in data.items():\n",
    "            if isinstance(value, np.ndarray):\n",
    "                data[key] = value.tolist()\n",
    "            elif isinstance(value, (dict,list)):\n",
    "                convert_ndarray(value)\n",
    "    elif isinstance(data, list):\n",
    "        for d in data:\n",
    "            convert_ndarray(d)\n",
    "    \n",
    "    return data\n",
    "\n",
    "tmp = convert_ndarray(data)"
   ]
  },
  {
   "cell_type": "code",
   "execution_count": 5,
   "metadata": {},
   "outputs": [],
   "source": [
    "with open(\"tmp.json\",'w') as file:\n",
    "    json.dump(tmp, file, indent=4)"
   ]
  },
  {
   "cell_type": "code",
   "execution_count": 6,
   "metadata": {},
   "outputs": [
    {
     "data": {
      "text/plain": [
       "0"
      ]
     },
     "execution_count": 6,
     "metadata": {},
     "output_type": "execute_result"
    }
   ],
   "source": []
  },
  {
   "cell_type": "code",
   "execution_count": null,
   "metadata": {},
   "outputs": [],
   "source": []
  }
 ],
 "metadata": {
  "kernelspec": {
   "display_name": "Python 3",
   "language": "python",
   "name": "python3"
  },
  "language_info": {
   "codemirror_mode": {
    "name": "ipython",
    "version": 3
   },
   "file_extension": ".py",
   "mimetype": "text/x-python",
   "name": "python",
   "nbconvert_exporter": "python",
   "pygments_lexer": "ipython3",
   "version": "3.8.10"
  },
  "orig_nbformat": 4
 },
 "nbformat": 4,
 "nbformat_minor": 2
}
