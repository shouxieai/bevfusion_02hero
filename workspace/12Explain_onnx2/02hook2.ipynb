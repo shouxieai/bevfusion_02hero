{
 "cells": [
  {
   "cell_type": "markdown",
   "metadata": {},
   "source": [
    "### 注册前向钩子（forward前），Module.register_forward_pre_hook(hook) -> torch.utils.hooks.RemovableHandle\n",
    "* 返回类型是torch.utils.hooks.RemovableHandle，使用handle.remove()删掉该钩子\n",
    "* 调用模块forward前执行钩子!!!\n",
    "* 钩子函数格式是：hook(module, input) -> None or modified input，返回值为None或者返回修改后的input\n",
    "* 钩子编程是编程范式"
   ]
  },
  {
   "cell_type": "markdown",
   "metadata": {},
   "source": [
    " -  假如你的模型有三个步骤才能走完。 你在第二个步骤后添加一个钩子。  模型运行时，会先运行前两个步骤，然后再执行钩子。再执行第三个步骤\n",
    "      - 钩子可以把一些当前的数据带出来。实现可视化等功能。\n",
    "      \n",
    " - return: 如果return了数据，return的数据将 改变input"
   ]
  },
  {
   "cell_type": "code",
   "execution_count": 1,
   "metadata": {},
   "outputs": [],
   "source": [
    "import torch\n",
    "import torch.nn as nn\n",
    "import torch.nn.functional as F"
   ]
  },
  {
   "cell_type": "code",
   "execution_count": 2,
   "metadata": {},
   "outputs": [
    {
     "name": "stdout",
     "output_type": "stream",
     "text": [
      "==[Hook]==\t Pre Hook: Model(\n",
      "  (conv1): Conv2d(1, 3, kernel_size=(3, 3), stride=(1, 1))\n",
      "  (conv2): Conv2d(3, 2, kernel_size=(3, 3), stride=(1, 1))\n",
      ") \n",
      "==[Hook]==\t Input shape is: torch.Size([1, 1, 5, 5])\n",
      "==[Hook]==\t Conv2d(1, 3, kernel_size=(3, 3), stride=(1, 1))\n",
      "==[forward]==\t Do forward, x.shape is torch.Size([1, 1, 7, 7])\n",
      "==[forward]==\t End forward, output shape is torch.Size([1, 2, 3, 3])\n"
     ]
    }
   ],
   "source": [
    "'''主要改变输入的信息。\n",
    "主要功能。在forward前修改输入\n",
    "    - 本来输出是 1,2,1,1\n",
    "    - 增加hook结果输出时 1,2,3,3\n",
    "'''\n",
    "class Model(nn.Module):\n",
    "    def __init__(self):\n",
    "        super().__init__()\n",
    "        self.conv1 = nn.Conv2d(1, 3, 3)\n",
    "        self.conv2 = nn.Conv2d(3, 2, 3)\n",
    "        \n",
    "    def forward(self, x):\n",
    "        print(\"==[forward]==\\t Do forward, x.shape is\", x.shape)\n",
    "        x = F.relu(self.conv1(x))\n",
    "        output = F.relu(self.conv2(x))\n",
    "        print(\"==[forward]==\\t End forward, output shape is\", output.shape)\n",
    "        return output\n",
    "    \n",
    "def before_hook2(module, x):\n",
    "    #input 是tuple\n",
    "    print(\"==[Hook]==\\t Pre Hook:\", module, \"\\n==[Hook]==\\t Input shape is:\", x[0].shape)\n",
    "    print(f\"==[Hook]==\\t \", module.conv1, sep=\"\")\n",
    "    return torch.zeros(1, 1, 7, 7) # 使得在forward前，输入数据已经从torch.zeros(1, 1, 5, 5)修改为torch.zeros(1, 1, 7, 7)\n",
    "\n",
    "model2 = Model()\n",
    "handle = model2.register_forward_pre_hook(before_hook2) # model2.后面注册，说明修改所有模型的前向。\n",
    "input1 = torch.zeros(1, 1, 5, 5) # 输入形状(1, 1, 5, 5) ，正常经过网络卷积，输出应该是(1, 2, 1, 1)\n",
    "model2(input1)\n",
    "handle.remove()    # 删除\n",
    "\n",
    "# 结论：register_forward_pre_hook钩子方便 模型的 修改输入数据。"
   ]
  },
  {
   "cell_type": "markdown",
   "metadata": {},
   "source": [
    "### 注册前向钩子（forward后），Module.register_forward_hook(hook) -> torch.utils.hooks.RemovableHandle\n",
    "* 返回类型是torch.utils.hooks.RemovableHandle，使用handle.remove()删掉该钩子\n",
    "* 调用模块forward后执行钩子\n",
    "* 钩子函数格式是：hook(module, input, output) -> None or modified output，返回值为None或者返回修改后的output\n",
    "* 钩子编程是编程范式"
   ]
  },
  {
   "cell_type": "code",
   "execution_count": 3,
   "metadata": {},
   "outputs": [
    {
     "name": "stdout",
     "output_type": "stream",
     "text": [
      "==[forward]==\t Do forward, x.shape is torch.Size([1, 1, 5, 5])\n",
      "==[forward]==\t End forward, output shape is torch.Size([1, 2, 1, 1])\n",
      "==[Hook]==\t this is register_forward_hook Model3(\n",
      "  (conv1): Conv2d(1, 3, kernel_size=(3, 3), stride=(1, 1))\n",
      "  (conv2): Conv2d(3, 2, kernel_size=(3, 3), stride=(1, 1))\n",
      ") \n",
      "==[Hook]==\t this is x\t torch.Size([1, 1, 5, 5]) \n",
      "==[Hook]==\t this is output\t torch.Size([1, 2, 1, 1])\n",
      "==[res]==\t torch.Size([1, 1, 7, 7])\n"
     ]
    }
   ],
   "source": [
    "class Model3(nn.Module):\n",
    "    def __init__(self):\n",
    "        super().__init__()\n",
    "        self.conv1 = nn.Conv2d(1, 3, 3)\n",
    "        self.conv2 = nn.Conv2d(3, 2, 3)\n",
    "    def forward(self, x):\n",
    "        print(\"==[forward]==\\t Do forward, x.shape is\", x.shape)\n",
    "        x = F.relu(self.conv1(x))\n",
    "        x = F.relu(self.conv2(x))\n",
    "        print(\"==[forward]==\\t End forward, output shape is\", x.shape)\n",
    "        return x\n",
    "\n",
    "def hook_function(module, x, output):\n",
    "    print(f\"==[Hook]==\\t this is register_forward_hook\", module, f\"\\n==[Hook]==\\t\", \"this is x\\t\", x[0].shape,f\"\\n==[Hook]==\\t\", \"this is output\\t\", output.shape)\n",
    "    # 本来，模型结果形状是  [1, 2, 1, 1]\n",
    "    return torch.zeros(1, 1, 7, 7) # 但是hook在forward执行完。最后，return的结果改了output\n",
    "    \n",
    "model3 = Model3()\n",
    "x = torch.randn((1, 1, 5, 5))\n",
    "handel = model3.register_forward_hook(hook_function)\n",
    "res = model3(x)\n",
    "print(f\"==[res]==\\t\", res.shape)\n",
    "handel.remove()\n",
    "\n",
    "# 结论：register_forward_hook钩子方便修改 模型的 输出数据。"
   ]
  },
  {
   "cell_type": "markdown",
   "metadata": {},
   "source": [
    "#### 总结：\n",
    "    - model.register_forward_pre_hook。  forward前的钩子return的值改的是input\n",
    "    - model.register_forward_hook。      forward后的钩子return的值改的是output"
   ]
  },
  {
   "cell_type": "markdown",
   "metadata": {},
   "source": [
    "### 直接替换forward函数"
   ]
  },
  {
   "cell_type": "markdown",
   "metadata": {},
   "source": [
    "#### 1.0 nn层的forward替换"
   ]
  },
  {
   "cell_type": "code",
   "execution_count": 4,
   "metadata": {},
   "outputs": [
    {
     "name": "stdout",
     "output_type": "stream",
     "text": [
      "==[forward]==\t Do forward, x.shape is torch.Size([1, 1, 5, 5])\n",
      "==[Hook]==\t type:<class 'torch.nn.modules.conv.Conv2d'> \t input_id:140446614049952 \t output_id:140439854633904\n",
      "==[Hook]==\t type:<class 'torch.nn.modules.conv.Conv2d'> \t input_id:140439854633984 \t output_id:140439854633904\n",
      "==[forward]==\t End forward, output shape is torch.Size([1, 2, 1, 1])\n"
     ]
    }
   ],
   "source": [
    "class Model3(nn.Module):\n",
    "    def __init__(self):\n",
    "        super().__init__()\n",
    "        self.conv1 = nn.Conv2d(1, 3, 3)\n",
    "        self.conv2 = nn.Conv2d(3, 2, 3)\n",
    "    def forward(self, x):\n",
    "        print(\"==[forward]==\\t Do forward, x.shape is\", x.shape)\n",
    "        x = F.relu(self.conv1(x))\n",
    "        x = F.relu(self.conv2(x))\n",
    "        print(\"==[forward]==\\t End forward, output shape is\", x.shape)\n",
    "        return x\n",
    "\n",
    "# 单独改torch.nn.Conv2d层的forward\n",
    "def hook_function3(oldfunc):\n",
    "    def inner_function(self, x):\n",
    "        res = oldfunc(self, x)\n",
    "        print(f\"==[Hook]==\\t type:{type(self)} \\t input_id:{id(x)} \\t output_id:{id(res)}\")\n",
    "        return res\n",
    "    return inner_function\n",
    "\n",
    "\n",
    "nn.Conv2d.forward = hook_function3(nn.Conv2d.forward) # 把nn.Conv2d.forward函数替换成了inner_function函数\n",
    "\n",
    "model4 = Model3().eval()\n",
    "x = torch.randn((1, 1, 5, 5))\n",
    "output = model4(x)\n",
    "\n",
    "# 总结：替换了 特定nn层 的forward函数。\n",
    "# 方法：使用python特性，直接替换特定函数的实现，以实现自定义修改。\n",
    "# 这种替换更为灵活。没有上面两个的局限性。"
   ]
  },
  {
   "cell_type": "markdown",
   "metadata": {},
   "source": [
    "#### 2.0 relu也替换掉的例子\n",
    "- 这里换了一个conv与relu分开的网络"
   ]
  },
  {
   "cell_type": "code",
   "execution_count": 1,
   "metadata": {},
   "outputs": [
    {
     "name": "stdout",
     "output_type": "stream",
     "text": [
      "==[Hook]==\t <class 'torch.nn.modules.conv.Conv2d'>, input id = 139901407312928, output id = 139901407312448\n",
      "==[Hook]==\t <class 'torch.nn.modules.activation.ReLU'>, input id = 139901407312448, output id = 139901407310768\n",
      "==[Hook]==\t <class 'torch.nn.modules.conv.Conv2d'>, input id = 139901407310768, output id = 139901407312448\n"
     ]
    }
   ],
   "source": [
    "import numpy as np\n",
    "import torch.nn as nn\n",
    "import torch\n",
    "\n",
    "class Model5(nn.Module):\n",
    "    def __init__(self):\n",
    "        super().__init__()\n",
    "        self.conv1 = nn.Conv2d(3, 3, 1, 1)\n",
    "        self.relu = nn.ReLU()\n",
    "        self.conv2 = nn.Conv2d(3, 1, 1, 1)\n",
    "    def forward(self, x):\n",
    "        x = self.conv1(x)\n",
    "        x = self.relu(x)\n",
    "        x = self.conv2(x)\n",
    "        return x\n",
    "        \n",
    "def hook_function(oldfunc): # 传入的参数是一个函数地址，即被替换掉的函数。\n",
    "    def inner_function(self, x): # 内部的函数参数形式要与forward一样。\n",
    "        res = oldfunc(self, x)\n",
    "        print(f\"==[Hook]==\\t {type(self)}, input id = {id(x)}, output id = {id(res)}\")\n",
    "        return res\n",
    "    return inner_function\n",
    "    \n",
    "nn.Conv2d.forward = hook_function(nn.Conv2d.forward) # 替换所有Conv2d模块的前向函数\n",
    "nn.ReLU.forward =   hook_function(nn.ReLU.forward)   \n",
    "\n",
    "model = Model5().eval()\n",
    "input = torch.zeros(1, 3, 3, 3)\n",
    "a = model(input)        "
   ]
  },
  {
   "cell_type": "code",
   "execution_count": null,
   "metadata": {},
   "outputs": [],
   "source": [
    "'''\n",
    "==[Hook]==\t <class 'torch.nn.modules.conv.Conv2d'>, input id = 139901407312928, output id = 139901407312448\n",
    "==[Hook]==\t <class 'torch.nn.modules.activation.ReLU'>, input id = 139901407312448, output id = 139901407310768\n",
    "==[Hook]==\t <class 'torch.nn.modules.conv.Conv2d'>, input id = 139901407310768, output id = 139901407312448\n",
    "\n",
    "id = 139901407312448 出现了多次。这是因为pytorch的内存复用造成的结果。\n",
    "'''"
   ]
  },
  {
   "cell_type": "markdown",
   "metadata": {},
   "source": [
    "#### 3.0 更新版\n",
    "- 对程序进一步修改。\n",
    "- 主要功能仍然是，将nn模块自带的forward函数，在功能(前向)不变的情况下，替换为自定义myforward函数。\n",
    "- 使用带参装饰器，参数为想要改变的 nn模块 + forwar字符串。\n",
    "  - 例如像改变  Conv2d 模块 的 forward。 传参 \"torch.nn.Conv2d.forward\"\n",
    "- 使用getattr，在函数内得到与装饰器参数一致的forward对象\n",
    "- 使用setattr，真正做到修改forward函数\n",
    "- 使用clone()，解决pytorch自动优化tensor导致tensor复用的问题。仍然留下一个问题"
   ]
  },
  {
   "cell_type": "code",
   "execution_count": null,
   "metadata": {},
   "outputs": [],
   "source": [
    "# 为什么要避免复用？\n",
    "# 主要和后面构建onnx有关。\n",
    "# ==[Hook]==\t <class 'torch.nn.modules.conv.Conv2d'>, input id = 139901407312928, output id = 139901407312448\n",
    "# ==[Hook]==\t <class 'torch.nn.modules.activation.ReLU'>, input id = 139901407312448, output id = 139901407310768\n",
    "# ==[Hook]==\t <class 'torch.nn.modules.conv.Conv2d'>, input id = 139901407310768, output id = 139901407312448\n",
    "# 从打印结果看，第一个Conv2d的output的id与第二个Conv2d的output的id一致。这样在构建graph时会出现问题。"
   ]
  },
  {
   "cell_type": "code",
   "execution_count": 1,
   "metadata": {},
   "outputs": [
    {
     "name": "stdout",
     "output_type": "stream",
     "text": [
      "<class 'torch.nn.modules.conv.Conv2d'>, input id = 139885180861632, output id = 139885180859472\n",
      "<class 'torch.nn.modules.activation.ReLU'>, input id = 139885180859472, output id = 139885180859312\n",
      "<class 'torch.nn.modules.conv.Conv2d'>, input id = 139885180859312, output id = 139885180860992\n"
     ]
    },
    {
     "data": {
      "text/plain": [
       "tensor([[[[0.3356, 0.3356, 0.3356],\n",
       "          [0.3356, 0.3356, 0.3356],\n",
       "          [0.3356, 0.3356, 0.3356]]]], grad_fn=<CloneBackward0>)"
      ]
     },
     "execution_count": 1,
     "metadata": {},
     "output_type": "execute_result"
    }
   ],
   "source": [
    "import numpy as np\n",
    "import torch.nn as nn\n",
    "import torch\n",
    "\n",
    "class Model(nn.Module):\n",
    "    def __init__(self):\n",
    "        super().__init__()\n",
    "        self.conv1 = nn.Conv2d(3, 3, 1, 1)\n",
    "        self.relu = nn.ReLU()\n",
    "        self.conv2 = nn.Conv2d(3, 1, 1, 1)\n",
    "    def forward(self, x):\n",
    "        x = self.conv1(x)\n",
    "        x = self.relu(x)\n",
    "        x = self.conv2(x)\n",
    "        return x\n",
    "        \n",
    "def hook_forward(fn):# 再包裹一层，使得能够使用装饰器。\n",
    "    fnname_list = fn.split(\".\") # ['torch', 'nn', 'Conv2d', 'forward']\n",
    "    layer_name = eval(\".\".join(fnname_list[:-1])) # 得到torch.nn.Conv2d\n",
    "    fn_name = fnname_list[-1] # \"forward\"\n",
    "    oldfn = getattr(layer_name, fn_name) # 得到<function Conv2d.forward at 0x000002AAED0B8940>\n",
    "                                         # <function ReLU.forward at 0x000002AAED0D31F0>\n",
    "    \n",
    "    def make_hook(bind_func):\n",
    "        \n",
    "        def myforward(self, x):\n",
    "            y = oldfn(self, x).clone() # 避免pytorch对tensor复用，但并不能总是保证id唯一。为何要避免复用，见最后面？\n",
    "            bind_func(self, x, y) \n",
    "            return y\n",
    "        \n",
    "        setattr(layer_name, fn_name, myforward) # 改变forward\n",
    "        \n",
    "        # return myforward\n",
    "    \n",
    "    return make_hook\n",
    "    \n",
    "\n",
    "@hook_forward(\"torch.nn.Conv2d.forward\")\n",
    "def symbolic_conv2d(self, x, y):\n",
    "    print(f\"{type(self)}, input id = {id(x)}, output id = {id(y)}\")\n",
    "    \n",
    "@hook_forward(\"torch.nn.ReLU.forward\")\n",
    "def symbolic_relu(self, x, y):\n",
    "    print(f\"{type(self)}, input id = {id(x)}, output id = {id(y)}\")\n",
    "    \n",
    "model = Model().eval()\n",
    "input1 = torch.ones(1, 3, 3, 3)\n",
    "a = model(input1)\n",
    "a\n",
    "\n",
    "\n",
    "# layer_name有哪些键\n",
    "# for k,v in vars(layer_name).items():\n",
    "#     print(k)\n",
    "# __module__\n",
    "# __doc__\n",
    "# __init__\n",
    "# _conv_forward\n",
    "# forward\n",
    "\n",
    "# id有什么变化\n",
    "# 除特殊情况，id已经没有重复的了。"
   ]
  },
  {
   "cell_type": "markdown",
   "metadata": {},
   "source": [
    "\"\"\"\n",
    "执行顺序说明：\n",
    "1.0 代码从上往下执行, 先导入各种模块, 定义Model类，定义hook_forward函数\n",
    "\n",
    "2.0 再执行到带参数的@hook_forward装饰器。执行hook_forward前4行代码\n",
    "    定义make_hook函数，返回make_hook的引用\n",
    "\n",
    "3.0 定义symbolic_conv2d函数，当被装饰的函数symbolic_conv2d定义好了\n",
    "    则将被装饰的函数作为参传入刚刚执行装饰器返回的myforward函数并执行, \n",
    "    即执行myforward(symbolic_conv2d)\n",
    "    \n",
    "4.0 再定义myforward函数, 利用setattr，用myforward替换掉\n",
    "    <class 'torch.nn.modules.conv.Conv2d'>的forward属性，\n",
    "\n",
    "ReLU的执行重复3.0  4.0 即\n",
    "5.0 再执行到带参数的@hook_forward装饰器。执行hook_forward前4行代码\n",
    "    定义make_hook函数，返回make_hook的引用\n",
    "\n",
    "6.0 再定义myforward函数, 利用setattr，用myforward替换掉\n",
    "    <class 'torch.nn.modules.activation.ReLU'>的forward属性\n",
    "\n",
    "7.0 实例化Model，执行__init__，置为eval模式，构造数据，执行model的前向forward\n",
    "\n",
    "8.0 在执行self.conv1(x)时，实际执行的是hook_forward中的make_hook中的myforward\n",
    "    "
   ]
  },
  {
   "cell_type": "markdown",
   "metadata": {},
   "source": [
    "## 4.0 再改进版\n",
    "- tensor什么时候会复用？\n",
    "    - 答案：在tensor没有任何引用的时候，tensor会被回收，并且会被复用\n",
    "    - 举例：在forward函数中\n",
    "    \n",
    "    ![Alt text](./image.png)\n",
    "    \n",
    "        - 执行完self.conv1(x)后，x1的引用计数减1，此时引用计数不一定为0(外面可能会有别的引用)，x1不一定会被回收\n",
    "        - 执行完self.relu(x)后, x2是真正的没有引用了。此时就可能被复用\n",
    "        - 在执行self.conv2(x)时。等号左边的x6需要新的内存，\n",
    "            - 此时发现x2没有引用了，内存还没被释放\n",
    "            - 于是就会使用这个内存。\n",
    "\n",
    "- 如何不让他复用？\n",
    "    - 解决方案是，使其引用计数一直存在，不释放。\n",
    "    \n"
   ]
  },
  {
   "cell_type": "code",
   "execution_count": null,
   "metadata": {},
   "outputs": [],
   "source": [
    "import numpy as np\n",
    "import torch.nn as nn\n",
    "import torch\n",
    "\n",
    "class Model(nn.Module):\n",
    "    def __init__(self):\n",
    "        super().__init__()\n",
    "        self.conv1 = nn.Conv2d(3, 3, 1, 1)\n",
    "        self.relu = nn.ReLU()\n",
    "        self.conv2 = nn.Conv2d(3, 1, 1, 1)\n",
    "    def forward(self, x):\n",
    "        x = self.conv1(x)\n",
    "        x = self.relu(x)\n",
    "        x = self.conv2(x)\n",
    "        return x\n",
    "        \n",
    "def hook_forward(fn):\n",
    "    nnmodule_list = fn.split(\".\")\n",
    "    nnmodule_name = eval(\".\".join(nnmodule_list[:-1])) \n",
    "    func_name = nnmodule_list[-1]\n",
    "    oldfunc = getattr(nnmodule_name, func_name)\n",
    "    \n",
    "    def make_hook(bind_func):\n",
    "        def newforward(self, x):\n",
    "            global all_tensors\n",
    "            y = oldfunc(self, x)\n",
    "            all_tensors.extend([x, y])\n",
    "            bind_func(self, x, y)\n",
    "            return y\n",
    "        setattr(nnmodule_name, func_name, newforward)\n",
    "    return make_hook\n",
    "\n",
    "def get_obj_id(obj):\n",
    "    global objmap # 引入global变量objmap\n",
    "    obj_id = id(obj) # 用id作为键，用长度作为值。\n",
    "    \n",
    "    if obj_id not in objmap:\n",
    "        objmap[obj_id] = len(objmap)\n",
    "    return objmap[obj_id]\n",
    "        \n",
    "    \n",
    "@hook_forward(\"torch.nn.Conv2d.forward\")\n",
    "def symbolic_conv2d(self, x, y):\n",
    "    print(f\"{type(self)}, input id = {get_obj_id(x)}, output id = {get_obj_id(y)}\")\n",
    "    \n",
    "@hook_forward(\"torch.nn.ReLU.forward\")\n",
    "def symbolic_relu(self, x, y):\n",
    "    print(f\"{type(self)}, input id = {get_obj_id(x)}, output id = {get_obj_id(y)}\")\n",
    "    \n",
    "all_tensors = []\n",
    "objmap = {} \n",
    "    \n",
    "model = Model().eval()\n",
    "input1 = torch.ones(1, 3, 3, 3)\n",
    "a = model(input1)\n",
    "a\n",
    "\n",
    "\n",
    "'''\n",
    "<class 'torch.nn.modules.conv.Conv2d'>, input id = 0, output id = 1\n",
    "<class 'torch.nn.modules.activation.ReLU'>, input id = 1, output id = 2\n",
    "<class 'torch.nn.modules.conv.Conv2d'>, input id = 2, output id = 3\n",
    "[3]:\n",
    "tensor([[[[-1.1552, -1.1552, -1.1552],\n",
    "          [-1.1552, -1.1552, -1.1552],\n",
    "          [-1.1552, -1.1552, -1.1552]]]], grad_fn=<ConvolutionBackward0>)\n",
    "'''"
   ]
  }
 ],
 "metadata": {
  "kernelspec": {
   "display_name": "Python 3 (ipykernel)",
   "language": "python",
   "name": "python3"
  },
  "language_info": {
   "codemirror_mode": {
    "name": "ipython",
    "version": 3
   },
   "file_extension": ".py",
   "mimetype": "text/x-python",
   "name": "python",
   "nbconvert_exporter": "python",
   "pygments_lexer": "ipython3",
   "version": "3.8.10"
  }
 },
 "nbformat": 4,
 "nbformat_minor": 4
}
