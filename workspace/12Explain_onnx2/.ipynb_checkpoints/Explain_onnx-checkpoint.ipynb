{
 "cells": [
  {
   "cell_type": "markdown",
   "metadata": {},
   "source": [
    "# 了解onnx结构\n",
    "## 1.0 执行，导出一个简单网络的onnx"
   ]
  },
  {
   "cell_type": "code",
   "execution_count": null,
   "metadata": {},
   "outputs": [],
   "source": [
    "import torch\n",
    "import torch.nn as nn\n",
    "import torch.nn.functional as F\n",
    "import torch.onnx\n",
    "import os\n",
    "\n",
    "class Model(torch.nn.Module):\n",
    "    def __init__(self):\n",
    "        super().__init__()\n",
    "\n",
    "        self.conv = nn.Conv2d(1, 1, 3, padding=1)\n",
    "        self.relu = nn.ReLU()\n",
    "        self.conv.weight.data.fill_(1)\n",
    "        self.conv.bias.data.fill_(0)\n",
    "    \n",
    "    def forward(self, x):\n",
    "        x = self.conv(x)\n",
    "        x = self.relu(x)\n",
    "        return x\n",
    "\n",
    "# 这个包对应opset11的导出代码，如果想修改导出的细节，可以在这里修改代码\n",
    "# import torch.onnx.symbolic_opset11\n",
    "print(\"对应opset文件夹代码在这里：\", os.path.dirname(torch.onnx.__file__))\n",
    "\n",
    "model = Model()\n",
    "dummy = torch.zeros(1, 1, 3, 3)\n",
    "torch.onnx.export(\n",
    "    model, \n",
    "\n",
    "    # 这里的args，是指输入给model的参数，需要传递tuple，因此用括号\n",
    "    # 杨秀勇：注意这里必须是元祖。  dummy是一个和输入数据形状一样的即可。\n",
    "    (dummy,), \n",
    "\n",
    "    # 储存的文件路径\n",
    "    \"demo.onnx\", \n",
    "\n",
    "    # 打印详细信息\n",
    "    verbose=True, \n",
    "\n",
    "    # 为输入和输出节点指定名称，方便后面查看或者操作\n",
    "    input_names=[\"image\"], \n",
    "    output_names=[\"output\"], \n",
    "\n",
    "    # 这里的opset，指，各类算子以何种方式导出，对应于symbolic_opset11\n",
    "    opset_version=11, \n",
    "\n",
    "    # 表示他有batch、height、width3个维度是动态的，在onnx中给其赋值为-1\n",
    "    # 通常，我们只设置batch为动态，其他的避免动态\n",
    "    # 数字代表维度 N C H W,给字母或-1，表示该维度是动态输入的。0: \"batch\"表示0维度是动态的\n",
    "    dynamic_axes={\n",
    "        \"image\": {0: \"batch\", 2: \"height\", 3: \"width\"}, \n",
    "        \"output\": {0: \"batch\", 2: \"height\", 3: \"width\"},\n",
    "    }\n",
    ")\n",
    "\n",
    "print(\"Done.!\")"
   ]
  },
  {
   "cell_type": "markdown",
   "metadata": {},
   "source": []
  }
 ],
 "metadata": {
  "kernelspec": {
   "display_name": "Python 3 (ipykernel)",
   "language": "python",
   "name": "python3"
  },
  "language_info": {
   "codemirror_mode": {
    "name": "ipython",
    "version": 3
   },
   "file_extension": ".py",
   "mimetype": "text/x-python",
   "name": "python",
   "nbconvert_exporter": "python",
   "pygments_lexer": "ipython3",
   "version": "3.8.10"
  }
 },
 "nbformat": 4,
 "nbformat_minor": 4
}
