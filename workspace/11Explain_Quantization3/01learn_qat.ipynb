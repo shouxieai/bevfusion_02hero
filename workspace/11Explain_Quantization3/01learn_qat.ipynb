{
 "cells": [
  {
   "cell_type": "markdown",
   "metadata": {},
   "source": [
    "# 一、学习过程小代码汇总\n",
    "## 1.1 演示模块的直接替换\n",
    "### 1.1.1 直接随便写个类修改Conv2d"
   ]
  },
  {
   "cell_type": "code",
   "execution_count": 3,
   "metadata": {},
   "outputs": [
    {
     "name": "stdout",
     "output_type": "stream",
     "text": [
      "<__main__.QuantConv2d object at 0x7f436808d070>\n",
      "__init__\n",
      "<__main__.QuantConv2d object at 0x7f4359706160>\n"
     ]
    }
   ],
   "source": [
    "# 注意，执行此cell，需要restart。\n",
    "# 此cell用于演示替换nn.Conv2d\n",
    "import torch\n",
    "import torch.nn as nn\n",
    "class QuantConv2d():\n",
    "    def __init__(self):\n",
    "        print(f\"__init__\")\n",
    "    \n",
    "    def __call__(self, input1):\n",
    "        print(input1)\n",
    "        \n",
    "print(nn.Conv2d)\n",
    "nn.Conv2d = QuantConv2d()\n",
    "print(nn.Conv2d)"
   ]
  },
  {
   "cell_type": "markdown",
   "metadata": {},
   "source": [
    "## 1.2 工厂模式\n",
    "\n",
    "🧙🏾‍♂️: 使用静态方法来初始化对象是一种编程模式，通常被称为工厂方法模式。这种模式的目的是提供一个接口来创建对象，而不是直接使用构造函数。这样做的好处有很多：\n",
    "\n",
    "1. **更清晰的语义**：静态方法可以有描述性的名称，这使得代码更易读、更易理解。例如，`QuantizationMethod.per_tensor(...)`明确表示我们正在创建一个针对整个张量的量化方法。\n",
    "\n",
    "2. **灵活性**：静态方法可以根据输入参数返回不同的对象实例或子类实例。这为创建对象提供了更大的灵活性。\n",
    "\n",
    "3. **参数简化**：静态方法可以为某些参数提供默认值或执行特定的预处理，从而简化对象的创建。\n",
    "\n",
    "在给定的代码中，`QuantizationMethod`类有两个静态方法：`per_tensor`和`per_channel`。这两个方法为用户提供了一种简洁、描述性的方式来创建`QuantizationMethod`对象，而不需要直接调用构造函数并传递大量参数。\n",
    "\n",
    "例如，`QuantizationMethod.per_tensor(8, Algorithm(\"max\"))`为我们创建了一个使用8位和最大值算法的整个张量的量化方法。这比直接使用构造函数更直观、更简洁。\n",
    "\n",
    "总的来说，通过静态方法初始化是一种使代码更加清晰、灵活和简洁的方法。你还有其他问题或疑虑吗？🔍"
   ]
  },
  {
   "cell_type": "code",
   "execution_count": null,
   "metadata": {},
   "outputs": [],
   "source": [
    "self.input_quantizer_  = Quantizer(QuantizationMethod.per_tensor(8, Algorithm(\"max\")))"
   ]
  },
  {
   "cell_type": "markdown",
   "metadata": {},
   "source": [
    "## 1.3 collect_data--解释per_channel"
   ]
  },
  {
   "cell_type": "code",
   "execution_count": 31,
   "metadata": {},
   "outputs": [
    {
     "name": "stdout",
     "output_type": "stream",
     "text": [
      "==[原始的a]==\n",
      " tensor([[[[ 0,  1,  2],\n",
      "          [ 3,  4,  5],\n",
      "          [ 6,  7,  8]]],\n",
      "\n",
      "\n",
      "        [[[ 9, 10, 11],\n",
      "          [12, 13, 14],\n",
      "          [15, 16, 17]]],\n",
      "\n",
      "\n",
      "        [[[18, 19, 20],\n",
      "          [21, 22, 23],\n",
      "          [24, 25, 26]]]])\n",
      "==[del前的reduce_shape]==                  [3, 2, 1, 0]\n",
      "==[del后的reduce_shape]==                  [3, 2, 1]\n",
      "==[当前i=3]==\n",
      " 对应\n",
      "a=tensor([[[[ 2],\n",
      "          [ 5],\n",
      "          [ 8]]],\n",
      "\n",
      "\n",
      "        [[[11],\n",
      "          [14],\n",
      "          [17]]],\n",
      "\n",
      "\n",
      "        [[[20],\n",
      "          [23],\n",
      "          [26]]]])\n",
      "==[当前i=2]==\n",
      " 对应\n",
      "a=tensor([[[[ 8]]],\n",
      "\n",
      "\n",
      "        [[[17]]],\n",
      "\n",
      "\n",
      "        [[[26]]]])\n",
      "tensor([[[[ 8]]],\n",
      "\n",
      "\n",
      "        [[[17]]],\n",
      "\n",
      "\n",
      "        [[[26]]]])\n"
     ]
    }
   ],
   "source": [
    "import torch\n",
    "dim = 0 # -1为per—tensor    0为per_weight  之所以是0是因为weight的形状\n",
    "\n",
    "\n",
    "a = torch.arange(27).reshape(3, 1, 3, 3) # 输出通道,输入通道,kernel_size1,kernel_size2\n",
    "print(f\"==[原始的a]==\\n\", a)\n",
    "\n",
    "reduce_shape = list(range(len(a.shape)-1, -1, -1)) \n",
    "print(f\"==[del前的reduce_shape]==\".ljust(40), reduce_shape)\n",
    "\n",
    "del reduce_shape[reduce_shape.index(dim)]\n",
    "print(f\"==[del后的reduce_shape]==\".ljust(40), reduce_shape)\n",
    "\n",
    "\n",
    "for i in reduce_shape: # \n",
    "    if a.shape[i] > 1:\n",
    "        a = torch.max(a, dim=i, keepdim=True)[0]\n",
    "        print(f\"==[当前i={i}]==\\n\", f\"对应\\na={a}\")\n",
    "        \n",
    "print(a)"
   ]
  },
  {
   "cell_type": "code",
   "execution_count": 30,
   "metadata": {},
   "outputs": [
    {
     "data": {
      "text/plain": [
       "torch.return_types.max(\n",
       "values=tensor([[0., 0.]]),\n",
       "indices=tensor([[0, 0]]))"
      ]
     },
     "execution_count": 30,
     "metadata": {},
     "output_type": "execute_result"
    }
   ],
   "source": [
    "b = torch.zeros((1, 2))\n",
    "\n",
    "b\n",
    "torch.max(b, dim=0, keepdim=True)"
   ]
  },
  {
   "cell_type": "markdown",
   "metadata": {},
   "source": [
    "## 1.4 直方图 torch api"
   ]
  },
  {
   "cell_type": "code",
   "execution_count": 3,
   "metadata": {},
   "outputs": [
    {
     "name": "stdout",
     "output_type": "stream",
     "text": [
      "tensor([1., 2., 3., 2., 1.])\n"
     ]
    },
    {
     "data": {
      "image/png": "[encoded data removed]",
      "text/plain": [
       "<Figure size 640x480 with 1 Axes>"
      ]
     },
     "metadata": {},
     "output_type": "display_data"
    }
   ],
   "source": [
    "import torch\n",
    "import matplotlib.pyplot as plt\n",
    "\n",
    "# 创建一个简单的张量\n",
    "x = torch.tensor([1, 2, 2, 3, 3, 3, 4, 4, 5], dtype=torch.float32)\n",
    "\n",
    "# 使用torch.histc计算直方图\n",
    "hist = torch.histc(x, bins=5, min=1, max=5)\n",
    "\n",
    "print(hist) # 输出: tensor([1., 2., 3., 2., 1.])\n",
    "\n",
    "# 使用matplotlib绘制直方图\n",
    "plt.bar(range(1, 6), hist.numpy())\n",
    "plt.xlabel('Value')\n",
    "plt.ylabel('Frequency')\n",
    "plt.title('Histogram of x')\n",
    "plt.show()\n"
   ]
  },
  {
   "cell_type": "markdown",
   "metadata": {},
   "source": [
    "## 1.5 宽度不变。hist改变解释"
   ]
  },
  {
   "cell_type": "code",
   "execution_count": 6,
   "metadata": {},
   "outputs": [
    {
     "name": "stdout",
     "output_type": "stream",
     "text": [
      "amax=4.1014933586120605\n",
      "tensor([152., 137.,  86.,  61.,  30.,  17.,   4.,   2.,   3.,   2.])\n"
     ]
    },
    {
     "data": {
      "image/png": "[encoded data removed]",
      "text/plain": [
       "<Figure size 640x480 with 1 Axes>"
      ]
     },
     "metadata": {},
     "output_type": "display_data"
    }
   ],
   "source": [
    "import torch\n",
    "import matplotlib.pyplot as plt\n",
    "\n",
    "torch.manual_seed(0)\n",
    "\n",
    "x = torch.randn(1000)\n",
    "x_max = x.abs().max().item()\n",
    "print(f\"amax={x_max}\")\n",
    "\n",
    "\n",
    "_num_bins = 10\n",
    "_calib_bin_edges = torch.linspace(0, x_max, _num_bins + 1)\n",
    "\n",
    "hist = torch.histc(x, bins=_num_bins, min=0, max=_calib_bin_edges[-1])\n",
    "print(hist)\n",
    "plt.bar(range(1, 11), hist.numpy())\n",
    "plt.xlabel('Value')\n",
    "plt.ylabel('Frequency')\n",
    "plt.title('Histogram of x')\n",
    "plt.show()"
   ]
  },
  {
   "cell_type": "code",
   "execution_count": 2,
   "metadata": {},
   "outputs": [
    {
     "name": "stdout",
     "output_type": "stream",
     "text": [
      "tensor(0.4101)\n",
      "4.1014933586120605\n",
      "13\n"
     ]
    },
    {
     "data": {
      "image/png": "[encoded data removed]",
      "text/plain": [
       "<Figure size 640x480 with 1 Axes>"
      ]
     },
     "metadata": {},
     "output_type": "display_data"
    }
   ],
   "source": [
    "_calib_hist = hist # 让_calib_hist记录上一次的hist\n",
    "\n",
    "\n",
    "# 下面模拟x_max增加后的效果\n",
    "width = _calib_bin_edges[1] - _calib_bin_edges[0]\n",
    "print(width)\n",
    "print(x_max)\n",
    "x_max = x_max + 1\n",
    "_num_bins = int((x_max / width).ceil().item()) \n",
    "print(_num_bins)   \n",
    "_calib_bin_edges = torch.arange(0, x_max + width, width)\n",
    "hist2 = torch.histc(x, bins=_num_bins, min=0, max=_calib_bin_edges[-1])\n",
    "hist2[:_calib_hist.numel()] += _calib_hist\n",
    "\n",
    "\n",
    "plt.bar(range(1, _num_bins+1), hist2.numpy())\n",
    "plt.xlabel('Value2')\n",
    "plt.ylabel('Frequency2')\n",
    "plt.title('Histogram of x2')\n",
    "plt.show()"
   ]
  },
  {
   "cell_type": "code",
   "execution_count": null,
   "metadata": {},
   "outputs": [],
   "source": []
  }
 ],
 "metadata": {
  "kernelspec": {
   "display_name": "Python 3",
   "language": "python",
   "name": "python3"
  },
  "language_info": {
   "codemirror_mode": {
    "name": "ipython",
    "version": 3
   },
   "file_extension": ".py",
   "mimetype": "text/x-python",
   "name": "python",
   "nbconvert_exporter": "python",
   "pygments_lexer": "ipython3",
   "version": "3.8.10"
  }
 },
 "nbformat": 4,
 "nbformat_minor": 2
}
